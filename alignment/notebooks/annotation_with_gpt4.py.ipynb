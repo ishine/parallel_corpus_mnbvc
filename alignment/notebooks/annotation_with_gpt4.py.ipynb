{
 "cells": [
  {
   "cell_type": "code",
   "execution_count": 1,
   "id": "a1aed986",
   "metadata": {},
   "outputs": [
    {
     "name": "stderr",
     "output_type": "stream",
     "text": [
      "Found cached dataset parquet (/home/jia/.cache/huggingface/datasets/bot-yaya___parquet/bot-yaya--UN_PDF_SUBSET_PREPROCESSED-5216c9199c92efc3/0.0.0/2a3b91fbd88a2c90d1dbbb32b460cf621d31bd5b05b934492fdef7d8d6f236ec)\n"
     ]
    },
    {
     "data": {
      "application/vnd.jupyter.widget-view+json": {
       "model_id": "7cd1502e49074400bc858ec600b2b13f",
       "version_major": 2,
       "version_minor": 0
      },
      "text/plain": [
       "  0%|          | 0/1 [00:00<?, ?it/s]"
      ]
     },
     "metadata": {},
     "output_type": "display_data"
    }
   ],
   "source": [
    "from datasets import load_dataset\n",
    "dataset = load_dataset('bot-yaya/UN_PDF_SUBSET_PREPROCESSED')"
   ]
  },
  {
   "cell_type": "code",
   "execution_count": 2,
   "id": "4f8035cf",
   "metadata": {},
   "outputs": [],
   "source": [
    "ds = dataset['train'].select(range(50))\n",
    "ds = ds.remove_columns(['zh', 'fr', 'es', 'ru'])"
   ]
  },
  {
   "cell_type": "code",
   "execution_count": 3,
   "id": "3de73c12",
   "metadata": {},
   "outputs": [
    {
     "data": {
      "text/plain": [
       "Dataset({\n",
       "    features: ['en', 'record'],\n",
       "    num_rows: 50\n",
       "})"
      ]
     },
     "execution_count": 3,
     "metadata": {},
     "output_type": "execute_result"
    }
   ],
   "source": [
    "ds"
   ]
  },
  {
   "cell_type": "code",
   "execution_count": 4,
   "id": "89e55adb",
   "metadata": {},
   "outputs": [
    {
     "name": "stderr",
     "output_type": "stream",
     "text": [
      "Loading cached processed dataset at /home/jia/.cache/huggingface/datasets/bot-yaya___parquet/bot-yaya--UN_PDF_SUBSET_PREPROCESSED-5216c9199c92efc3/0.0.0/2a3b91fbd88a2c90d1dbbb32b460cf621d31bd5b05b934492fdef7d8d6f236ec/cache-d36fd9ddf80f84f4.arrow\n"
     ]
    },
    {
     "data": {
      "text/plain": [
       "Dataset({\n",
       "    features: ['en', 'record', 'is_hard_linebreak'],\n",
       "    num_rows: 50\n",
       "})"
      ]
     },
     "execution_count": 4,
     "metadata": {},
     "output_type": "execute_result"
    }
   ],
   "source": [
    "# add a new column to ds, is_hard_linebreak, which is a list of bools\n",
    "# indicating the number of linebreak in the en text\n",
    "ds = ds.map(lambda example: {'is_hard_linebreak': []})\n",
    "ds"
   ]
  },
  {
   "cell_type": "code",
   "execution_count": 46,
   "id": "82fe0f7a",
   "metadata": {},
   "outputs": [
    {
     "name": "stdout",
     "output_type": "stream",
     "text": [
      "73 73\n",
      "[False, True, True, False]\n"
     ]
    }
   ],
   "source": [
    "import json\n",
    "\n",
    "def dump_to_jsonl(data, file_path):\n",
    "    with open(file_path, 'w') as file:\n",
    "        for item in data:\n",
    "            json.dump(item, file)\n",
    "            file.write('\\n')\n",
    "            \n",
    "def compare_breaks(raw_text, output_text):\n",
    "    print(len(raw_text), len(output_text))\n",
    "    is_hard_line_break = [raw_text[i] == output_text[i] for i in range(len(raw_text)) if raw_text[i] == '\\n']\n",
    "    return is_hard_line_break\n",
    "\n",
    "raw_text = \"My name is\\nNicola.\\nHow are you doing ?\\nMy name is Axel. I am\\nfine, thanks\"\n",
    "output_text = \"My name is Nicola.\\nHow are you doing ?\\nMy name is Axel. I am fine, thanks\"\n",
    "\n",
    "print(compare_breaks(raw_text, output_text))\n"
   ]
  },
  {
   "cell_type": "code",
   "execution_count": 34,
   "id": "78ae9348",
   "metadata": {},
   "outputs": [],
   "source": [
    "validation_data = []"
   ]
  },
  {
   "cell_type": "code",
   "execution_count": 35,
   "id": "0d5a11bd",
   "metadata": {},
   "outputs": [],
   "source": [
    "raw_text = \"\"\"General Assembly Distr.: Limited\n",
    "28 November 2001\n",
    "Original: English\n",
    "01-66657 (E) 291101\n",
    "*0166657*\n",
    "Fifty-sixth session\n",
    "Third Committee\n",
    "Agenda item 119 (b)\n",
    "Human rights questions: human rights questions, including\n",
    "alternative approaches for improving the effective enjoyment\n",
    "of human rights and fundamental freedoms\n",
    "South Africa:* draft resolution\n",
    "The right to development\n",
    "The General Assembly,\n",
    "Guided by the Charter of the United Nations, expressing, in particular, the\n",
    "determination to promote social progress and better standards of life in larger\n",
    "freedom as well as to employ international mechanisms for the promotion of the\n",
    "economic and social advancement of all peoples,\n",
    "Recalling that the Declaration on the Right to Development, adopted by the\n",
    "General Assembly in its resolution 41/128 of 4 December 1986, confirmed that the\n",
    "right to development is an inalienable human right and that equality of opportunity\n",
    "for development is a prerogative both of nations and of individuals, who make up\n",
    "nations,\"\"\""
   ]
  },
  {
   "cell_type": "code",
   "execution_count": 36,
   "id": "078791be",
   "metadata": {
    "scrolled": false
   },
   "outputs": [],
   "source": [
    "expected_output = \"\"\"General Assembly Distr.: Limited\n",
    "28 November 2001\n",
    "Original: English\n",
    "01-66657 (E) 291101\n",
    "*0166657*\n",
    "Fifty-sixth session\n",
    "Third Committee\n",
    "Agenda item 119 (b)\n",
    "Human rights questions: human rights questions, including\n",
    "alternative approaches for improving the effective enjoyment\n",
    "of human rights and fundamental freedoms\n",
    "South Africa:* draft resolution\n",
    "The right to development\n",
    "The General Assembly,\n",
    "Guided by the Charter of the United Nations, expressing, in particular, the determination to promote social progress and better standards of life in larger freedom as well as to employ international mechanisms for the promotion of the economic and social advancement of all peoples,\n",
    "Recalling that the Declaration on the Right to Development, adopted by the General Assembly in its resolution 41/128 of 4 December 1986, confirmed that the right to development is an inalienable human right and that equality of opportunity for development is a prerogative both of nations and of individuals, who make up nations,\"\"\""
   ]
  },
  {
   "cell_type": "code",
   "execution_count": 37,
   "id": "8853eb77",
   "metadata": {},
   "outputs": [],
   "source": [
    "validation_data.append({\n",
    "    \"raw_text\": raw_text,\n",
    "    \"is_hard_linebreak\": compare_breaks(raw_text, expected_output),\n",
    "})"
   ]
  },
  {
   "cell_type": "markdown",
   "id": "dac9dcf8",
   "metadata": {},
   "source": [
    "# case 2"
   ]
  },
  {
   "cell_type": "code",
   "execution_count": 41,
   "id": "a7ddb57a",
   "metadata": {
    "scrolled": false
   },
   "outputs": [
    {
     "name": "stdout",
     "output_type": "stream",
     "text": [
      "United Nations A/CONF.192/PC/L.3\n",
      "General Assembly Distr.: Limited\n",
      "1 December 2000\n",
      "Original: English\n",
      "00-77708 (E) 141200\n",
      "*0077708*\n",
      "Preparatory Committee for the United Nations\n",
      "Conference on the Illicit Trade in Small Arms\n",
      "and Light Weapons in All Its Aspects\n",
      "Second session\n",
      "8-19 January 2001\n",
      "Draft Objective of the Conference\n",
      "Working paper by the Chairman of the Preparatory Committee\n",
      "The Preparatory Committee recommends that the objective of the Conference\n",
      "should be to develop and strengthen international efforts to prevent, combat and\n",
      "eradicate the illicit trade in small arms and light weapons in all its aspects. To this\n",
      "end, the aims of the Conference should be:\n",
      "– To strengthen or develop norms at the global, regional and national levels that\n",
      "would reinforce and further coordinate efforts to prevent and combat the illicit\n",
      "trade in small arms and light weapons in all its aspects;\n",
      "– To develop agreed international measures to prevent and combat illicit arms\n",
      "trafficking in and manufacturing of small arms and light weapons and to\n",
      "reduce excessive and destabilizing accumulations and transfers of such\n",
      "weapons throughout the world;\n",
      "– To put particular emphasis on the regions of the world where conflicts come to\n",
      "an end and where serious problems with the proliferation of small arms and\n",
      "light weapons have to be dealt with urgently;\n",
      "– To mobilize the political will throughout the international community to\n",
      "prevent and combat illicit transfers in and manufacturing of small arms and\n",
      "light weapons in all their aspects, and raise awareness of the character and\n",
      "seriousness of the interrelated problems associated with the illicit trafficking in\n",
      "and manufacture of small arms and light weapons and the excessive and\n",
      "destabilizing accumulation and spread of these weapons;\n",
      "– To promote responsibility by States with a view to preventing the illicit export,\n",
      "import, transit and retransfer of small arms and light weapons.\n"
     ]
    }
   ],
   "source": [
    "sample = ds[1]\n",
    "print(sample['en'])"
   ]
  },
  {
   "cell_type": "code",
   "execution_count": 42,
   "id": "75ec3e34",
   "metadata": {},
   "outputs": [],
   "source": [
    "expected_output = \"\"\"United Nations A/CONF.192/PC/L.3\n",
    "General Assembly Distr.: Limited\n",
    "1 December 2000\n",
    "Original: English\n",
    "00-77708 (E) 141200\n",
    "*0077708*\n",
    "Preparatory Committee for the United Nations\n",
    "Conference on the Illicit Trade in Small Arms\n",
    "and Light Weapons in All Its Aspects\n",
    "Second session\n",
    "8-19 January 2001\n",
    "Draft Objective of the Conference\n",
    "Working paper by the Chairman of the Preparatory Committee\n",
    "The Preparatory Committee recommends that the objective of the Conference should be to develop and strengthen international efforts to prevent, combat and eradicate the illicit trade in small arms and light weapons in all its aspects. To this end, the aims of the Conference should be:\n",
    "– To strengthen or develop norms at the global, regional and national levels that would reinforce and further coordinate efforts to prevent and combat the illicit trade in small arms and light weapons in all its aspects;\n",
    "– To develop agreed international measures to prevent and combat illicit arms trafficking in and manufacturing of small arms and light weapons and to reduce excessive and destabilizing accumulations and transfers of such weapons throughout the world;\n",
    "– To put particular emphasis on the regions of the world where conflicts come to an end and where serious problems with the proliferation of small arms and light weapons have to be dealt with urgently;\n",
    "– To mobilize the political will throughout the international community to prevent and combat illicit transfers in and manufacturing of small arms and light weapons in all their aspects, and raise awareness of the character and seriousness of the interrelated problems associated with the illicit trafficking in and manufacture of small arms and light weapons and the excessive and destabilizing accumulation and spread of these weapons;\n",
    "– To promote responsibility by States with a view to preventing the illicit export, import, transit and retransfer of small arms and light weapons.\"\"\""
   ]
  },
  {
   "cell_type": "code",
   "execution_count": 44,
   "id": "c43fe752",
   "metadata": {},
   "outputs": [
    {
     "name": "stdout",
     "output_type": "stream",
     "text": [
      "1929 1929\n"
     ]
    }
   ],
   "source": [
    "validation_data.append({\n",
    "    \"raw_text\": sample['en'],\n",
    "    \"is_hard_linebreak\": compare_breaks(sample['en'], expected_output),\n",
    "})"
   ]
  },
  {
   "cell_type": "code",
   "execution_count": 47,
   "id": "b8976cc3",
   "metadata": {},
   "outputs": [],
   "source": [
    "dump_to_jsonl(validation_data, 'validation_small.jsonl')"
   ]
  },
  {
   "cell_type": "code",
   "execution_count": 49,
   "id": "79e6b0b4",
   "metadata": {},
   "outputs": [
    {
     "data": {
      "text/plain": [
       "2"
      ]
     },
     "execution_count": 49,
     "metadata": {},
     "output_type": "execute_result"
    }
   ],
   "source": [
    "len(validation_data)"
   ]
  },
  {
   "cell_type": "markdown",
   "id": "c0ad09ed",
   "metadata": {},
   "source": [
    "# Case 3"
   ]
  },
  {
   "cell_type": "code",
   "execution_count": 45,
   "id": "e64510a0",
   "metadata": {},
   "outputs": [
    {
     "name": "stdout",
     "output_type": "stream",
     "text": [
      "United Nations A/61/917\n",
      "General Assembly Distr.: General\n",
      "21 May 2007\n",
      "Original: English\n",
      "07-35147 (E) 230507\n",
      "*0735147*\n",
      "Sixty-first session\n",
      "Agenda items 68 and 117\n",
      "Report of the Human Rights Council\n",
      "Programme budget for the biennium 2006-2007\n",
      "Reports of the Secretary-General on the revised\n",
      "estimates resulting from decision S-4/101 adopted\n",
      "by the Human Rights Council at its fourth special\n",
      "session in 2006 (A/61/530/Add.2) and on the revised\n",
      "estimates resulting from resolutions adopted by the\n",
      "Council at its fourth session in 2007 (A/61/530/Add.3)\n",
      "Report of the Advisory Committee on Administrative and\n",
      "Budgetary Questions\n",
      "1. The Advisory Committee has considered the reports of the Secretary-General\n",
      "on the revised estimates resulting from decision S-4/101 adopted by the Human\n",
      "Rights Council at its fourth special session in 2006 (A/61/530/Add.2) and on the\n",
      "revised estimates resulting from resolutions adopted by the Council at its fourth\n",
      "session in 2007 (A/61/530/Add.3).\n",
      "2. As noted in the report of the Secretary-General on the revised estimates\n",
      "resulting from decision S-4/101 adopted by the Human Rights Council at its fourth\n",
      "special session in 2006 (A/61/530/Add.2), the adoption of the decision gives rise to\n",
      "estimated requirements in the amount of $347,200 for the biennium 2006-2007 to\n",
      "implement the activities outlined in paragraph 5 of the report of the Secretary￾General.\n",
      "3. The Advisory Committee notes from paragraph 7 of the report that revised\n",
      "programme budget implications were not presented prior to the introduction and\n",
      "adoption of the draft decision presented by the President of the Human Rights\n",
      "Council. Consequently, the Council was informed that the General Assembly would\n",
      "be informed of the estimated resources required to implement the decision (see\n",
      "A/HRC/S-4/5, para. 12). It is envisaged that the estimated expenditures will be\n",
      "accommodated from within existing resources under section 23, Human rights, of\n",
      "the programme budget for the biennium 2006-2007.\n",
      "07-35147\n",
      "4. The Advisory Committee recommends that the General Assembly take\n",
      "note of the above-mentioned report of the Secretary-General (A/61/530/Add.2).\n",
      "5. As noted in the report of the Secretary-General on the revised estimates\n",
      "resulting from resolutions adopted by the Human Rights Council at its fourth\n",
      "session in 2007 (A/61/530/Add.3), the adoption of resolutions 4/4 and 4/8 gives rise\n",
      "to estimated requirements of $434,600. In accordance with rule 153 of the rules of\n",
      "procedure of the General Assembly, the Council was provided with a statement of\n",
      "programme budget implications prior to the adoption of the resolutions.\n",
      "6. A summary of the requirements is provided in the annex to the report of the\n",
      "Secretary-General. With regard to Council resolution 4/8, the Secretary-General\n",
      "intends to accommodate $360,300, to the extent possible, from within the resources\n",
      "already appropriated under the programme budget for the biennium 2006-2007. Any\n",
      "additional requirements would be reported in the context of the second performance\n",
      "report of the programme budget for the biennium 2006-2007. With regard to\n",
      "Council resolution 4/4, an amount of $74,300 is projected to be required for the\n",
      "biennium 2008-2009 and will be considered in accordance with established\n",
      "procedures under General Assembly resolutions 41/213 and 42/211.\n",
      "7. The Advisory Committee recommends that the General Assembly take\n",
      "note of the fact that the implementation of Council resolution 4/8 would give\n",
      "rise to additional requirements in the amount of $360,300 under sections 2, 23\n",
      "and 28E of the programme budget for the biennium 2006-2007, which would be\n",
      "accommodated, to the extent possible, within the existing appropriation, and\n",
      "that the Secretary-General intends to report in the context of the second\n",
      "performance report of the programme budget for the biennium 2006-2007 on\n",
      "any additional requirements (A/61/530/Add.3, sect. IV (a)).\n",
      "8. The Advisory Committee recommends that the General Assembly take\n",
      "note of the fact that the implementation of Council resolution 4/4 would give\n",
      "rise to additional requirements in the amount of $74,300 under sections 2, 23\n",
      "and 28E of the proposed programme budget for the biennium 2008-2009, and\n",
      "that those requirements would be considered when the Assembly takes up the\n",
      "proposed 2008-2009 programme budget and the related contingency fund\n",
      "(A/61/530/Add.3, sect. IV (b)).\n"
     ]
    }
   ],
   "source": [
    "sample = ds[2]\n",
    "print(sample['en'])"
   ]
  },
  {
   "cell_type": "code",
   "execution_count": null,
   "id": "5280e489",
   "metadata": {},
   "outputs": [],
   "source": []
  }
 ],
 "metadata": {
  "kernelspec": {
   "display_name": "Python 3 (ipykernel)",
   "language": "python",
   "name": "python3"
  },
  "language_info": {
   "codemirror_mode": {
    "name": "ipython",
    "version": 3
   },
   "file_extension": ".py",
   "mimetype": "text/x-python",
   "name": "python",
   "nbconvert_exporter": "python",
   "pygments_lexer": "ipython3",
   "version": "3.10.6"
  }
 },
 "nbformat": 4,
 "nbformat_minor": 5
}
