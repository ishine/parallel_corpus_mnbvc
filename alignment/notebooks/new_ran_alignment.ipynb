{
 "cells": [
  {
   "cell_type": "code",
   "execution_count": 3,
   "id": "00c3b5b8",
   "metadata": {},
   "outputs": [
    {
     "name": "stderr",
     "output_type": "stream",
     "text": [
      "Found cached dataset parquet (C:/Users/wRan/.cache/huggingface/datasets/ranWang___parquet/ranWang--UN_PDF_TEXT_DATA-8444a7274238e7fd/0.0.0/2a3b91fbd88a2c90d1dbbb32b460cf621d31bd5b05b934492fdef7d8d6f236ec)\n"
     ]
    }
   ],
   "source": [
    "from datasets import  load_dataset\n",
    "\n",
    "dataset = load_dataset(\"ranWang/UN_PDF_TEXT_DATA\", split=\"randomTest\")"
   ]
  },
  {
   "cell_type": "code",
   "execution_count": 4,
   "id": "b5a17d18",
   "metadata": {},
   "outputs": [
    {
     "data": {
      "text/plain": [
       "Dataset({\n",
       "    features: ['zh', 'ar', 'en', 'fr', 'es', 'ru', 'record'],\n",
       "    num_rows: 2839\n",
       "})"
      ]
     },
     "execution_count": 4,
     "metadata": {},
     "output_type": "execute_result"
    }
   ],
   "source": [
    "dataset"
   ]
  },
  {
   "cell_type": "code",
   "execution_count": 21,
   "id": "cd166a4c",
   "metadata": {},
   "outputs": [],
   "source": [
    "def get_all_directory_contents(article_content):\n",
    "    table_contents_line = []\n",
    "    \n",
    "    page_list = article_content.split(\"\\n----\\n\")\n",
    "    \n",
    "    last_directory_page = 0\n",
    "    for index, page in enumerate(page_list):\n",
    "        for line in page.split(\"\\n\"):\n",
    "            if \".....\" in line:\n",
    "                table_contents_line.append(line)\n",
    "                last_directory_page = index + 1\n",
    "    \n",
    "    if len(table_contents_line) < 4:\n",
    "        return None, None\n",
    "    \n",
    "    return list(map(lambda s:s[:s.find(\"...\")].replace(\" \",\"\"), table_contents_line)), last_directory_page"
   ]
  },
  {
   "cell_type": "code",
   "execution_count": 33,
   "id": "378038ea",
   "metadata": {},
   "outputs": [],
   "source": [
    "def preprocessin_file_content(file_content:str, last_directory_page:int):\n",
    "    \"\"\"\n",
    "    预处理文件的内容，删除每一页中页脚和页眉，以及删除目录页之前的内容\n",
    "    \"\"\"\n",
    "    page_list = file_content.split(\"\\n----\\n\")[last_directory_page:]\n",
    "\n",
    "    remove_footer_and_header_page = []\n",
    "    \n",
    "    for page in page_list:\n",
    "        line_list = page.split(\"\\n\")\n",
    "        last_index = len(line_list) - 1\n",
    "        for index, line in enumerate(line_list):\n",
    "            if \"__________\" in line:\n",
    "                last_index = index\n",
    "                break\n",
    "        \n",
    "        remove_footer_and_header_page.append(\"\\n\".join(line_list[3:last_index]))\n",
    "        \n",
    "        \n",
    "    return \"\\n\".join(remove_footer_and_header_page)"
   ]
  },
  {
   "cell_type": "code",
   "execution_count": 7,
   "id": "0c01e1ae",
   "metadata": {},
   "outputs": [],
   "source": [
    "def find_last_sequence(index, paragraph_list):\n",
    "    next_index = None\n",
    "    for paragraph in paragraph_list[index+1:]:\n",
    "        if re.search(r\"^\\d+\\.\", paragraph):\n",
    "            next_index = paragraph.split(\".\")[0]\n",
    "            break\n",
    "            \n",
    "    return next_index"
   ]
  },
  {
   "cell_type": "code",
   "execution_count": 8,
   "id": "045e76ac",
   "metadata": {},
   "outputs": [],
   "source": [
    "def spilt_paragraph(current_index, next_index, line):\n",
    "    if not line:\n",
    "        return []\n",
    "    \n",
    "    slilt_list = []\n",
    "    while True:   \n",
    "        current_index = current_index + 1\n",
    "        \n",
    "        if current_index >= int(next_index):\n",
    "            slilt_list.append(line)\n",
    "            break \n",
    "      \n",
    "        split_line_by_index = line.split(f\"{current_index}.\")\n",
    "        if len(split_line_by_index) == 1:\n",
    "            zh_split_line_by_index = line.split(f\"{current_index}．\")\n",
    "            if len(zh_split_line_by_index) == 2:\n",
    "                split_line_by_index = zh_split_line_by_index\n",
    "                \n",
    "        if len(split_line_by_index) == 1:\n",
    "            slilt_list.append(split_line_by_index[0])\n",
    "            break\n",
    "            \n",
    "        slilt_list.append(split_line_by_index[0])    \n",
    "        line = f\"{current_index}.{split_line_by_index[1]}\"\n",
    "        \n",
    "    return slilt_list"
   ]
  },
  {
   "cell_type": "code",
   "execution_count": 9,
   "id": "6d00e6e6",
   "metadata": {},
   "outputs": [],
   "source": [
    "def post_processing(paragraph_list, lang):\n",
    "    processed_paragraph_list = []\n",
    "    \n",
    "    if lang == \"zh\":\n",
    "        for index, paragraph in enumerate(paragraph_list):\n",
    "            end_index = paragraph.rfind(\"。\")\n",
    "     \n",
    "            if end_index < len(paragraph) - 6:\n",
    "                processed_paragraph_list.append(paragraph[:end_index+1])\n",
    "                \n",
    "            else:\n",
    "                processed_paragraph_list.append(paragraph)\n",
    "                \n",
    "    return processed_paragraph_list"
   ]
  },
  {
   "cell_type": "code",
   "execution_count": 45,
   "id": "d69d7eba",
   "metadata": {},
   "outputs": [],
   "source": [
    "import re\n",
    "\n",
    "def process(row, directory, last_page):\n",
    "\n",
    "    removed_directory_content_list = []\n",
    "    for line in preprocessin_file_content(row, last_page).split(\"\\n\"):\n",
    "        line_copy = line.replace(\" \",\"\")\n",
    "        if line_copy in directory:\n",
    "            continue\n",
    "\n",
    "        removed_directory_content_list.append(line)\n",
    "\n",
    "\n",
    "    imperfect_paragraph_list = []\n",
    "    per_insert_paragraph = \"\"\n",
    "    for paragraph in removed_directory_content_list:\n",
    "        if re.search(r\"^\\d+\\.\", paragraph):\n",
    "            imperfect_paragraph_list.append(per_insert_paragraph)\n",
    "            per_insert_paragraph = paragraph\n",
    "        else:\n",
    "            per_insert_paragraph += paragraph\n",
    "            \n",
    "            \n",
    "    paragraph_list = []\n",
    "    last_index = 0\n",
    "\n",
    "    for index, paragraph in enumerate(imperfect_paragraph_list):\n",
    "        if not paragraph:\n",
    "            continue\n",
    "\n",
    "        match = re.search(r\"^\\d+\\.\", paragraph)\n",
    "        if match:\n",
    "            current_index = int(match[0].split(\".\")[0])\n",
    "            if current_index < last_index:\n",
    "                paragraph_list[-1] = paragraph_list[-1] + paragraph\n",
    "                continue\n",
    "                \n",
    "            last_index = current_index\n",
    "            next_index = find_last_sequence(index, paragraph_list)\n",
    "\n",
    "            if next_index:\n",
    "                for split_paragraph in spilt_paragraph(current_index, next_index, paragraph):\n",
    "                    paragraph_list.append(split_paragraph)      \n",
    "            else:\n",
    "                paragraph_list.append(paragraph)\n",
    "        else:\n",
    "            if len(paragraph_list) > 0:\n",
    "                paragraph_list[-1] = paragraph_list[-1] + paragraph\n",
    "            \n",
    "    return paragraph_list"
   ]
  },
  {
   "cell_type": "code",
   "execution_count": 46,
   "id": "da6930a6",
   "metadata": {},
   "outputs": [
    {
     "data": {
      "text/plain": [
       "['1. Bermuda is a Non-Self-Governing Territory administered by the United Kingdom of Great Britain and Northern Ireland.1 The Territory is located in the western part of the Atlantic Ocean, a bout 917 kilometres east of the nearest continental shore, the North Carolina coast of the United States of America. The Territory, covering 57 square kilometres, consists of 8 major and 130 smaller islands. The largest is Great Island, or Main Island. Hamilton, the capital, and St. George’s are the two main towns. ',\n",
       " '2. Discovered by Spanish navigator Juan de Bermúdez in 1505, Bermuda celebrated its 500th anniversary in 2005.2 In 1609, Bermuda was settled by a group of English colonists and in 1610 the first slaves were brought to work on the farms and to dive for pearls. In 1620, the first Parliament was held after the Crown granted the colony limited self-government. In 1968, Bermuda was granted internal self-government and a new Constitution. In 1995, a referendum was held on the question of independence. Of the 58.8 per cent of eligible voters who participated, which is a small number by Bermudian standards, 73.6 per cent voted against independence. The then-opposition party had organized a boycott of the referendum among supporters of independence arguing that the issue should be resolved by general election. ',\n",
       " '3. In 2006 the population was estimated at 65,000.3 The census conducted in 2000 established Bermuda’s resident population at 62,059, of whom 55 per cent were black, 34 per cent white and the rema ining 11 per cent mixed or other races, with an estimated growth rate of 0.75 per cent for 2000.4 The number of foreign-born residents represented 28 per cent of the population.5 The Territory is very densely populated, with approximately 1,180 inhabitants per square kilometre, and all of its population live in urban areas.  ',\n",
       " '4. The Overseas Territories Act, which came into force in 2002, provides British citizenship to the peoples of its Territori es, including Bermudians. That law allows Bermudians to hold British passports and to work anywhere in the European Union.     ',\n",
       " '5. The Constitution of Bermuda, adopted in 1968, was amended in 1973, 1979, 1989, 2001 and 2003. The Governor (and Commander-in-Chief) is appointed by the United Kingdom, after consultations with the Territory’s Premier. The Governor is responsible for defence, external affairs, in ternal security and the police. The current Governor of Bermuda, John Vereker, took office in April 2002.6   6. Bermuda has a parliamentary system of government. The Government comprises a Governor, a Deputy Governor, a Cabinet and a bicameral legislature, with a House of Assembly of 36 members directly elected for a five-year term and a Senate of 11 appointed members. Five me mbers of the Senate are appointed by the Governor, on the advice of the Premier, three on the advice of the leader of the opposition and three by the Governor at his discretion. The Governor appoints as Premier the member of the House of Assembly who appears to him or her to be best able to command the confidence of a majority of the members of that House. The Premier heads a Cabinet that may not comprise more than 14 members of the legislature.6 ',\n",
       " '7. Bermuda’s law and legal system are based on English common law and principles of equity, English statute la w (in force since 1612) and Acts of the Bermuda Parliament passed since then. Th e judiciary is a separate body from the Government, and its members are not elected  but are appointed on the advice of the Chief Justice. There are three courts presiding in Bermuda, namely, the Magistrates’ Court, the Supreme Court and the Court of Appeal. ',\n",
       " '8. There are two official political parties in the Territory. The Progressive Labour Party (PLP) was formed by the black majority in 1963. The United Bermuda Party (UBP) was formed in 1964, largely by the white population.6 ',\n",
       " '9. In the 1998 general election PLP defeated UBP and took power for the first time in the 30 years since the party system began in 1968. PLP was elected for a second five-year term in 2003, occupying 22 seats in the House of Assembly. Premier Ewart Frederick Brown took office on 30 October 2006, following his election as the leader of the governing PLP, replacing Alexander Scott in each capacity. The next election is due by August 2008.6 ',\n",
       " '10. V oters in the general and other electi ons or referendums mu st be 18 years of age and Bermudian by birth or status, or non-Bermudian long-term residents who are citizens of the British Commonwealth and registered to vote annually since ',\n",
       " '1979. In 2003, there were approximately 39,400 registered voters, about 63 per cent of the total population.6 11. In significant measure, racial divisions in Bermuda continue to be played out in the support for, or opposition to, independence and the method to be used to ascertain the wishes of the population on the question. The ruling PLP wants the issue of independence settled in the context of an election, while the opposition UBP favours using a referendum, as has been done in the past.  12. As previously reported, the Bermuda Independence Commission, set up in December 2004, issued an official report in August 2005.7 On the question of the use of either a general election or a referendum to test public opinion on independence, the Commission concluded that it was incumbent upon both political parties to share the me rits of each method. 13. Furthermore, in November 2005, the speech delivered by the Governor on the occasion of the opening of Bermuda’s Parliament (known as the speech from the Throne), reflected the position of the terr itorial Government that independence was a natural progression for a mature jurisdiction such as Bermuda. The Government of Bermuda intended to present a Green Paper for discussion within the House of  Assembly and the public, and subsequently a White Paper, outlining the Government’s policy proposals for an independent Bermuda. 14. In November 2006, with the new Premier in place, the Governor stated in his speech from the Throne that Bermuda was unique and constitutionally advanced, economically sound and politically stable.8 In the same month, the Premier said that “Independence is not on the front burner, but it is still on the stove”.9 The campaign to gain independence from the United Kingdom is expected to receive less fervent attention from the current territorial Government. Although the Premier was pro-independence, he had not linked his leadership bid to the issue.3  15. According to the administering Power, in 2006, PLP held public meetings to discuss independence for Bermuda, such as the one held on 29 June 2006 in St. George’s.10 Towards the end of the year, according to a new poll, support for independence had dipped to 17 per cent from 21 per cent in both September and July.11  16. During his visit to London in November 2006, the Premier reportedly voiced concern over a statement from Government House suggesting that in the event of independence only Bermudians with parents or grandparents from Britain would be granted British citizenship should independence be gained in the future.12      17. Bermuda’s fiscal year begins in April. In the 2007/08 budget statement, the Finance Minister said that the territorial Government’s total combined current and capital account budget for 2007/08 was just over US$ 1 billion. The budget for the provision of the essential raft of public services such as education, health, housing, law enforcement, transport, waste management and other services was US$ 862 million. The capital expenditure programme has a proposed budget of US$ 141 million.13  18. Taking into account the value of receipt s collected to date and the anticipated value of receipts to be collected, the territorial Government’s revenues are ahead of the projections made in the 2006/07 budget. During the first two quarters of 2005/06, total revenue was US$ 448 million, somewhat above the original estimate. It is anticipated that there will be larger than expected fees to be collected from international business, customs duty and income tax. There is also the expectation of an increase in revenue from passenger tax arising from the greater number of cruise ships that will have visited the island during 2006/07. Likewise, the hotel occupancy tax is expected to rise due to the anticipa tion of increased amounts of air visitors to Bermuda.6  19. On the expenditure side, the territorial Government anticipates that current expenditure will be somewhat larger than anticipated. Projected current expenditure of US$ 806.1 million may increase to approximately US$ 811 million due to supplementary budget requests. Furthermore, the Government anticipates that capital expenditure will be less than the US$ 126 million that was estimated in the budget due to delays in some capital projects. With the expected increase in revenue along with the lower capital spending figures, the territorial Government’s borrowing requirement in 2006/07 is estim ated to decrease to approximately US$ 46.3 million from the original estimate of roughly US$ 97 million.6       20. The official currency of Bermuda is the Bermuda dollar. On a one-to-one basis, the Bermuda dollar is pegged to the United States dollar.14 Bermuda’s gross domestic product was estimated at US$ 4,680 million (2006) and the per capita gross domestic product at US$ 76,400 (2005). For 2007/08, Bermuda’s gross domestic product growth is forecast to exceed the target range of 3.0 to 3.25 per cent, with inflation tracking around a core rate  of 3 per cent if oil prices evolve as anticipated.15 A review of some of the key economic indicators in Bermuda’s economy such as visitor arrivals and spending, international business developments, consumer spending, inflation and balance of payments suggested that forecast targets for 2006/07 would likely be achieved.6  21. According to the administering Power, the territorial Government continued to receive positive reports from external credit rating agencies on its management of the economy. The most recent of these agencies was Fitch Ratings in August 2006. Fitch Ratings upgraded Bermuda’s long-term foreign currency issuer default rating to “AA+” from “AA”. The country ceiling has also been raised to “AAA” from “AA+”. The report confirmed Bermuda’s strengths as having a mature political system, stable macroeconomic environmen t and limited public debt, high per capita income and a dynamic international busine ss community. Also noted in the report was the fact that Bermuda was a small open economy that was vulnerable to external shocks and su sceptible to internati onal regulatory pressures.6 22. Moreover, in his 2007/08 budget statement the Finance Minister stated that the territorial Government had consistently received excellent reviews from the major credit rating agencies on its debt manageme nt performance and its  record of overall economic management.13  23. For the 10-month period ending October 2006, total consumer spending in retail outlets increased by 3.3 per cent, or  US$ 18.6 million, to a total of nearly US$ 588 million. Of that, approximately US$ 538 million was spent locally, while US$ 50 million was spent overseas. The rate of inflation in October 2006 stood at 2.7 per cent compared to the same period in the previous year. Although the rate in January 2006 was 2.5 per cent, it climbed to its  highest level of 3.7 per cent in June  before steadily decreasing to the October value.6 During the course of the year, the rate held steady at 3.1 per cent.13 The greatest contributions to the level of inflation were generated by higher electricity costs in  the fuel and power sector and increased medical care costs in the health and personal care sector.6 24. The external sector of the economy has produced positive results. Bermuda’s balance of payments in the first three quarters of 2006 recorded a surplus on the current account of US$ 745 million compared with a surplus of US$ 391 million in the first three quarters of 2005. This represents a gain of 90.5 per cent. Payments increased from US$ 1,594 million in the first nine months of 2005 to US$ 1,913 million in the corresponding months of 2006, resulting in an increase of 20.0 per cent. Receipts rose from US$ 1,987 million in the first nine months of 2005 to US$ 2,658 million in the first nine months of 2006, which represents an increase of 33.8 per cent.6 Given the continued strength of the international business sector and the positive balance of payments figures, according to the administering Power, the economy was expected to remain vibrant for the foreseeable future.6     25. Bermuda is one of the world’s leading offshore financial and business centres and is among the major ju risdictions worldwide in large-scale insurance and reinsurance. There is no central bank in the Territory. The Bermuda Monetary Authority is the regulatory authority for banks and trust companies. 26. According to the administering Power, over the first three quarters of 2006, 749 new international companies and partners hips were registered in Bermuda. The 5.4 per cent increase over the same period in the previous year in the total number of companies on the register at the end of the third quarter illustrates that the Territory’s reputation as an exemplary offshore jurisdiction remains intact. Bermuda’s reputation was built in part on providing a stable economic business environment, having experienced management and underwriting staff, a history of timely payment of claims and a highly successful and adaptable regulatory framework. These characteristics continue to attract reputable businesses to the island. This sector of the economy continues to provide the second largest number of jobs and substantial levels of reve nue to the Government of Bermuda. Their presence also has a positive influence on Bermuda’s foreign exchange earnings.6     27. Against the previously reported bac kdrop that tourist spending in Bermuda had decreased by about 25 per cent  over the past five years,3 the 2007/08 budget statement indicated that international business and tourism had posted strong results, with the latter posting an overall increase of 23 per cent in total visitor arrivals.16  28. A global forum of the world’s top 100 tourism business leaders predicted that demand created by Bermuda’s tourism industry was set to double by 2016 to  generate US$ 2 billion in business. The number of jobs in the travel and tourism economy would increase from 7,000 in 2006 to 10,000 in 2016.17  29. Tourist arrivals grew by 23 per cent in 2006, giving rise to an increase in visitor spending on the island.18  30. In 2005, a total of 247,259 cruise ship visitors arrived in Bermuda, contributing US$ 50.3 million to the econom y. In addition, cruise lines paid approximately US$ 12 million to the Governme nt for passenger a nd cabin taxes. In total, it is estimated that cruise passenger,  crew and cruise lines contribute in excess of US$ 70 million annually to Bermuda’s economy.19  31. For 2007/08, US$ 20 million has been allocated for a second cruise ship pier at the Royal Naval Dockyard. Th e new dock will be able to  accommodate the larger vessels that have become the st andard in the cruise industry.18  32. At the same time, according to global financial analysts Standard and Poor’s the Territory is coming under social pressure because of the limited opportunities for locals in the hospitality sector. Although the latest tourism figures pointed to an upturn in arrivals, Standard and Poor’s findings were related to the longer term.20      33. Bermuda’s construction sector remained robust in 2006, was one of the fastest-growing sectors of the economy, with an expansion of 5 per cent in total jobs, which pushed employment in the sector to 3,646.18 Employment in the sector rose by 9 per cent in 2004, and now accounts for 8.4 per cent of employment, compared with only 2.7 per cent in manufacturing. Commercia l and high-end residential properties and office buildings in the capital, Hamilton,  are the main drivers of construction activity.3  34. In 2005, output in the construction industry grew by 21.3 per cent, fuelled by demand for commercial office space from the financial and international business sectors. Demand for construction services was also vibrant in the hotel industry for both fractional hotel units such as condominium complexes and standard hotel structures. Steady building development of education facilities in both the private and public sector also contributed to the buoyant construction activity in 2005.6 35. The Ministry of Public Safety and Housing has a budget of approximately US$ 120 million for 2007/08. No new projects have been added. According to the administering Power, to address the issue of homelessness, the territorial Government has launched a campaign of purchasing and renovating old properties to return them to suitable use; introduced “geared to income” rental housing; and promoted “life interest” sales of homes at discounted prices.6 36. There continues to be a clear lack of affordable housing for less well-off Bermudians. In November 2006, 286 units were under contract with more planned. The Government will work with the private sector to generate progressive ways to  finance new homes and encourage Bermudian landlords to get abandoned houses and empty apartments back into liveable condition and on the market for sale or rent. In addition to tackling the problems of building and financing new affordable housing, the territorial Government will assemble the best legal and financial minds to determine how to renovate derelict homes for rent or ownership by deserving families.8      37. Bermuda has very high standard transport and telecommunications sectors. There is a network of about 225 kilometres of paved public roads and 400 kilometres of private roads (see also A/AC.109/2006/6, para. 25). Bermuda also has one of the highest road traffic densitie s in the world, with approximately 100 vehicles per kilometre of paved road.21  38. In 2005/06 vehicle registration and licensing generated US$ 25.1 million in revenues, a major source of revenue for the territorial Government. Restrictions on car ownership to one per household, coupled with a policy of allowing no rental cars, have resulted in the development of an excellent and well-utilized group transportation system. Work on the Hamilt on Bus Terminal was completed in early ',\n",
       " '2006.6 39. In November 2006, the Governor stated that the territorial Government would limit the increase of cars on the island and explore alternative means of transport: increased buses and minibuses, expanded public transport routes, car pooling schemes, car usage schemes, water taxis a nd infrastructures that were more walker-friendly.8  40. According to the administering Power, the development of waterborne transport was an important element in the continued economic development of Bermuda. In 2006, a ferry boat began to provide commuter service from St. George’s to Hamilton. Another ferry has been scheduled for delivery in 2007. These state-of-the-art boats have been us ed to provide service from ferry docks, where parking, shelter and other amenities  have been provided to commuters. Ferry usage has quadrupled since ferry improvements were implemented in early 2002 at a cost of US$ 26 million.6 Furthermore, the 2007/08 budget statement indicated that the tour boat operators would receive va rious forms of relief, including duty-free fuel and a reduced rate on spare parts.13  41. In terms of administrative arrangemen ts, the Territory’s Ministry of Tourism and Transport, consisting of eight departments, is responsible for land, sea and air transportation, including public bus and fe rry service, private transportation oversight (public service and community se rvice vehicles), marine navigation, air operations, motor vehicle licensing and regi stration and civil aviation and maritime administration. The Ministry is also responsible for the Department of Tourism.6 42. Bermuda has its own air and ship regulatory agencies. Both the Department of Civil Aviation and the Department of Mar itime Administration maintain registries,  and are considered to be as stringent as comparable agencies in the United Kingdom and the United States.6 43. The Bermuda International Airport has undergone significant improvements since 2000. There are numerous regular f lights between Bermuda and the United States, Canada and the United Kingdom. The work on the runways and aprons at the Airport will continue throughout 2007/08.13 A United States-based airline intends to offer daily flights between Boston and Bermuda, and another will commence daily flights between New York City and the Territory. A United Kingdom-based “budget airline” requested authorization from the Air Transport Licensing Board to begin twice weekly flights between London’s Ga twick Airport and Bermuda from June ',\n",
       " '2007. The Premier considers these new services a boon to the Territory’s tourism.22  44. With regard to telecommunications in  Bermuda, the territori al Government is undertaking a process of regulatory reform as part of an initiative to bring about further liberalization of the sector. According to the administering Power, a series of industry consultation initiatives were held between October 2005 and September 2006, including an industry round table, a formal consultation paper, meetings with industry players, market research and an  industry workshop. A framework for a new regulatory structure has been developed. This involves the promulgation of new regulations that will establish a new independent regulatory authority responsible for licensing, rules, oversight monitoring and enforcement.6 45. Furthermore, as of December 2006, the Outer Space Act 1986 has been extended to Bermuda by the United Kingdom through the Outer Space Act 1986 (Bermuda) Order 2006. This is expected to facilitate new legislation, such as the draft satellite network and coordination regulations, to allow Bermuda licensing activities concerning outer space. Moreover, from an economic point of view, this would allow for the utilization of the orb ital slots allocated to Bermuda by the International Telecommunications Union. It is expected that the regulations will be adopted during 2007. In addition, the Territory is taking steps to elaborate a framework for the establishment of a satellite earth station on Bermuda.6       46. Various socio-economic inequalities continue to exist in Bermuda. According to the administering Power, the Territory continues to address the issue of racial equality through the publication of statistics on workforce demographics, education and training and new proposals for legislation, addressed below.6 47. The territorial Government intends to implement new programmes to address housing, education, health care, and quality of life issues of the Territory’s youth and elderly. Programmes to address alcohol  and drug abuse are being crafted. The territorial Government also intends to address crime in a significant way and to institute innovative race relations programmes.  48. The territorial Government has established a Ministry for Social Rehabilitation to focus on implementing solutions to the social challenges that exist within the  community. In this context, the cross ministry initiative team provides immediate intervention and access to treatment for fa milies. The Team assists families to improve their level of functioning in thei r environment with sustainable skills, in particular to maintain  adequate accommodation.6 49. The needs of the elderly will form a major component of public policy in terms of the provision of public and private care services, given Bermuda’s evolving demographic profile of fewer children, more elderly and an older workforce.6 In 2007/08, the territorial Government intends to increase pension benefits in the Contributory Pension Fund by 4.5 per cent and prescription drug benefits for seniors would get a similar increase, raising the benefits to US$ 1,200 per year. Benefits for war veterans will be increased to an appr eciable extent; specifically, medical, dental and pension benefits will be enhanced, w ith the pension benefit being doubled, from US$ 400 to US$ 800 per month.23     50. In 2005, a total of 38,947 job positions were filled in the Bermuda workforce, compared with 38,363 in 2004. This repres ented an increase of roughly 2 per cent, or 584 jobs.24 The median employment earnings of all workers reached US$ 48,183, based on a weekly average of 33.2 hours worked.6 51. In 2005, jobs in the international business sector surpassed the public administration sector, making it the larges t employer, with 4,213 filled positions. The growing influence of in ternational business on the labour force also had a spillover effect on the level of employment in the construction, hotel, business services and financial intermediation sectors. Employment in the hotel industry climbed by 3 per cent, to 3,231 jobs, while the construction industry registered an 8 per cent rise in positions filled.19 52. In 2006, one third of the workforce was expatriate workers.25 In 2007/08 the territorial Government intends to focus on achieving a flexible and responsive labour market that has the necessary incen tives to encourage adequate training and development opportunities for the local workforce.13 For instance, to enhance training and employment opportunities for Bermudians, the Government will require employers in some job categories to hire a minimum number of trainees or apprentices in order for the empl oyers to qualify for work permits.8  53. With regard to work permits, the te rritorial Government recognized that a balance must be struck between the legitimate needs and expectations of Bermudians and the current and emerging needs of the business community. There were persons in the community, employers in particular, who believed that the Government’s policy with respect to term limits for work permits was likely to have a negative impact on Bermuda’s business community. The current policy, which took effect in 2001, stipulates that in most  cases there will be a work permit term of six years, with the first term ending in 2007.6  54. The Permanent Secretary of the Berm uda Ministry of Labour and Immigration stated that a rollover policy for expatriate  workers would become effective in April ',\n",
       " '2007. The term limit was six years, at which point the guest worker must leave the Territory for two years before taking up residency again. The policy was to control the long-term growth of the population, which has been growing since the early 1970s when the Territory’s economy started to boom.25  55. According to the administering Power, surveys have shown that many among the black population believe they suffer racial discrimination in the workplace, particularly in senior management roles in  the international busin ess sector, which is dominated by white overseas workers. Regulations requiring every company with 10 employees or more to present detailed  demographics on its racial make-up, including information on hiring, firing, benefits and promotions, are a central part of the social policies of the current Government.6 56. The Annual Review of the Workforce Survey, which is undertaken and published annually by the Commission for Unity and Racial Equality, continues to show that the representation of the black Bermudian workforce remains significantly skewed. Blacks represent 55 per cent of the workforce and of the overall population of Bermuda, but continue to be underrepresented in the senior/executive and mid-management positions and income levels and over-represented in the non-profe ssional employment levels.6 57. The territorial Government’s initiatives addressing race relations are set out in paragraphs 68 and 69 below.     58. Education in Bermuda is compulsory for all children from 5 to 16 years of age and is free in government schools. There ar e also private schools. The literacy rate in the Territory is considered high: 98 per cent of males and 99 per cent of females 15 years of age and over can read and write. The public school system includes 2 senior secondary schools, 5 middle schools, 18 primary schools, 12 preschools, and 2 special schools. High school graduates ar e prepared for further studies at the Bermuda College or at institutions abroad, mainly in the United States, Canada and the United Kingdom. For 2007/08, the Ministry of Education, Sports and Recreation is provided with a budget of US$ 152 million.18 59. The United Kingdom announced that, beginning in 2007, citizens from the Overseas Territories would benefit from the home student fee rate at English universities.26 60. As previously reported (see A/AC .109/2006/6, para. 34), the 2000 census revealed a serious disparity between the proportion of white students going to private schools (three quarters) and bl ack students enrolled in the government educational system. The declining quality of education at Bermuda’s public schools is a frequent issue in the media as only about half of the students attending public schools graduated from high school.27   61. A number of initiatives were carried out during 2005 to enhance the quality of education in Bermuda’s public school system. According to the administering Power, at the upper primary and middle levels teachers participated in a writers workshop with Columbia University in the United States; all primary schools were provided with levelled classroom texts, some 200 to 300 new books for students to read independently; and over 1,100 computer s were installed in primary and middle schools. Moreover, an intensive four-week programme entitled “The Financial Services Academy” was piloted to prepare senior school graduates for entry-level positions in Bermuda’s ever-expanding financial services industry.6 62. In November 2006, the territorial Government indicated that it would renew its focus on the very basics of education — reading, writing, mathematics and critical thinking. Technical courses at the secondary school level would be expanded, agriculture and outreach programmes would be implemented and job skills training programmes and a 14-week paid internship programme for young people would be introduced.8  63. Moreover, according to the administering Power, the Government currently supports the Bermuda Regiment/Bermuda  College soldiers programme, which provides free tuition at Bermuda College for soldiers in the Bermuda Regiment. This programme will be expanded in 2007 to offer a general equivalency diploma/high school diploma for soldiers who have not completed secondary school.6     64. Population projections confirm that two major demographic phenomena will dominate Bermuda in the future years: an ageing population and a low fertility level. According to the administering Power, the age structure of the population is as follows: 20 per cent of the inhabitants are between birth and age 14, 70 per cent are between the ages of 15 and 64 and 10 per cent are over 65. Life expectancy at birth is 80 years for women and 75 years for men. However, as previously reported, life expectancy among blacks in Bermuda is nearly four years shorter than for whites.28 Population projections indicate that the annual growth rate will be less than one tenth of 1 per cent by the year 2015 and negative by the year 2030.6 65. As previously reported (see A/AC.109/2006/6, para. 36), there is no comprehensive publicly funded health insurance, although hospitalization insurance is mandatory for all employed or self-e mployed persons. Nonetheless, insurance coverage is nearly universal, and some persons are insured by more than one provider. The Territory’s two hospitals, the King Edward VII Memorial Hospital and the Mid-Atlantic Wellness Institute, are op erated by the Bermuda Hospitals Board, a statutory body financed by the Government.29 66. For 2007/08, the Ministry of Health is provided with a budget of US$ 139 million. The territorial Government, along with the Bermuda Hospitals Board, will advance the estate master plan for the de velopment of new health-care facilities. A  critical step in this process is the assessment of clinical needs in Bermuda and the determination of services to be provided by an acute care hospital in Bermuda. This effort would shape the type of hospital that the Government builds and the type of facilities it would house to provide for health care. As a matter of high priority, the Ministry of Health will launch a national health promotion strategy in 2007/08 to develop a healthier community.18 67. Pursuant to the Health Council Act, 2004, the Council became operational on 1 January 2006, indicating, according to th e administering Power, the Government’s intent to restructure the health-care system . For instance, during the latter part of 2006 the national health promotion strategy was launched around three themes: healthy people, healthy families and hea lthy communities. The strategy is only one step towards improvement in community health and provides a call to action for all stakeholders and partners who can affect change in public health for the people of Bermuda. Other activities implemented to advance the general health of Bermuda’s population were the launch of the persons with disabilities board. The primary responsibility of this board will be to review the national policy for persons with disabilities. In support of the growing elderly population, several meetings and monthly educational forums for seniors were held to provide information and guidance on travel, nutrition, wills and estate planning.6     68. As previously reported, the Bermuda Independence Commission noted in August 2005 that the racial question has been “an ever-present, although seldom acknowledged feature of the Bermudian social, economic and political landscape”. In the speech delivered at the opening of parliament in 200 6, the territorial Government maintained that the people of Bermuda must talk openly and frankly about race and race relations and the de bilitating effects of racism and racist practices of the past and present, requiring an open, honest, frank and sustained discussion on race. The Government w ould create programmes to empower the disadvantaged to give them a chance for a fair fight for their futures — a fair fight for jobs, businesses, land and opportunity.8 Speaking at the second African Diaspora Heritage Trail Conference in Bermuda in September 2006, the Premier said that in 2006 the Government was still forced to defend policies that were aimed at empowering a majority of the population, and made to consult with representatives of the minority to reverse years of economic injustice against the minority.4  69. According to the administering Power,  a number of initiatives  to address race relations were planned for 2007: (a) introduction of workforce empowerment legislation mandating employers to document the equality of opportunity, policy and strategy; (b) support to the joint industry taskforce established in 2006, to focus on workplace parity, the employment of black males, identifying entry-level jobs, industry specific training regimes, and ap prenticeship schemes; and (c) elaboration of a national race relations strategy. The strategy would provide a process for dialogue, consultation and agreement on Be rmuda’s position on race and racism.6    70. In 2006, violent crime reached a seven-year high. A total of 2,079 crimes were reported in the areas of violence, theft, burglary and taking a vehicle without consent. During July and September 2006, the reported crime figure was higher than in any quarter since 1999.30  71. In November 2006, the territorial Government stated that it would assess the entire criminal justice system — from infra ction to incarceration and everything in between. Real change would occur to improve laws, prosecutorial prowess, customs search procedures and the correctional system. Bermuda had to increase the fairness of the criminal justice system, while starkly reducing the rate of recidivism so that those who had earned a second chance was given a fair opportunity to use it.8  72. In the budget statement for 2007/08, the territorial Government stated that the Bermuda Police Service would continue to be engaged in Community policing initiatives. The aim of the programme was to use a community-b ased partnership approach to reduce the number of incidents that required intervention by the Bermuda Police Service and/or other agencies within the various neighbourhoods throughout the Territory. This plan would be especially useful in neighbourhoods beset with crime and violence.18 73. Bermuda has a police force of approxim ately 450 full-time officers and several hundred part-time police reserves. According to the administering Power, the Commissioner of Police was addressing manpower shortages and expected the Bermuda Police Service to increase the number of police officers during the first quarter of 2007. Fourteen new local recruits were enrolled at the training school facility for a five-week localization course and were to be deployed in operational policing duties. Twelve additional officers were scheduled to arrive in early 2007. Additional overseas recruitment would be conducted once the results of the local recruitment were known.6 74. An anti-gang initiative was implemented during 2006, the aims of which were to obtain a full understanding of the extent of the gang problem in Bermuda; to identify what causes people to engage in gang and other antisocial activities; and to implement solutions that would discourage people from involvement in gangs, crime and other related behaviour.6 75. On the issue of illegal residency, like many attractive jurisdictions, Bermuda experiences the problem of persons residing illegally in the Territory, most through overstaying. According to the administering Power, the Compliance Section of the Department of Immigration works closely with the Bermuda Police Service in an effort to apprehend such individuals. When these persons are found, they are deported from Bermuda and their names are placed on Bermuda’s “stop list”. Employers risk punishment if they are found to be employing people without work permits or if they allow employees to engage in work that is outside the parameters of their work permits. In a ddition to the penalties ava ilable in law, persons who employ individuals who are in Bermuda illegally risk being denied the right to hold future work permits or of havi ng existing work permits revoked.6  76. In terms of legislative developments on the protection of children, according to the administering Power, the Criminal Code Amendment (No. 2) Act 2006 was submitted to the House of Assembly in December 2006 to protect children from being sexually exploited or being preyed upon for sexual purposes by way of, but not limited to, the Internet environment. The Act will address such areas as making, possessing and distributing child abusive material or child pornography; showing child abusive material or child pornography to a child; Internet luring; and the use of children in the production of child a busive material or child pornography. The Act is expected to come into force during 2007.6 77. Information on the applicability of the United Nations Convention against Corruption can be found in paragraph 87 below.     78. Under the budget statement for 2007/08, the Ministry of the Environment, Telecommunications and E-Commerce would be provided with a budget of US$ 38 million. For instance, the territorial Government plans to introduce an agricultural and educational outreach programme to link senior secondary school students with established local farms so as to expose them to traditional farming practices.18  79. In the context of the 2004 sustainable development project and the 2005 public perception study on sustainable development, in January 2006 a Sustainable Development Unit was formed in the Cabinet Office to move the project forward and to mainstream sustainable development in the civil service. According to the administering Power, the Unit put a draft sustainable development strategy and implementation plan before the Cabinet and organized public consultations on the draft strategy from July to October 2006. The draft strategy highlighted six priority areas for the upcoming years: sustainable consumption patterns; open space protection; housing and affordable housing; workforce development and entrepreneurship; systematization of so cial service provisions; and government delivery and accountability.6 80. Following the release of the White Paper on the marine environment and fishing industry in Bermuda in 2005, fisher ies-related regulations were reviewed and legislative changes recommended. According to the administering Power, the Fisheries Amendment Act 2006 established a Commercial Fisheries Council to issue commercial and fishing licences, and strengthened fines for offences. The Fisheries Amendment Act (No. 2) 2006 provides the Minister responsible for the Environment with the authority to declare fish aggregation areas and to prohibit all fishing in such areas for a period of up to 90 days.  81. The Endangered Animals and Plants Act 2006, which replaced the Endangered Animals and Plants Act 1976, enables Bermuda to comply with the updated Convention on International Trade in Endangered Species of Wild Flora and Fauna, and provides for increased enforcement of  the Convention, co nsistent with the decision taken at the thirteenth Conference of the Parties to the Convention in Bangkok in October 2004.  82. The Clean Air Amendment Regulations 2006 enables the Government of  greater than 2.0 per cent by weight, and “approved fuel” as fuel that has a sulphur content equal to or less than 2.0 per cent by weight. 83. The draft Cooper’s Island land use and management proposal plan introduced in the Legislature in May 2005 has moved to the implementation phase, initially involving the restoration of a one acre of  critically endangered salt water marsh. Cooper’s Island represents a unique opportunity to retain one of Bermuda’s last remaining open spaces as a green lung. The 77 acre area is situated at the eastern end of the island, and is isolated enough to enable the successful restoration and protection of Bermuda’s native and endemic plant and animal life, including for educational purposes. In 2006 the working management plan was revised with input from public consultation.6     84. Bermuda maintains a defence regiment  of some 700 soldiers. The adult male population is subject to conscription, invol ving three years’ part-time liability for weekly drills and an annual camp.6 85. Information on the territorial Govern ment’s support to war veterans and the Bermuda Regiment/Bermuda College so ldiers programme can be found in paragraphs 49 and 63 above.     86. Bermuda is an associate member of the Caribbean Community and Common Market. According to the administering Power, Bermuda participates in educational, cultural and sporting events.6 87. At the eighth Overseas Territories Consultative Council meeting, held in London on 21 and 22 November 2006, the United Kingdom and the Overseas Territories represented at the meeting, including Bermuda, agreed in principle that the United Nations Convention against Corruption would be extended to the Overseas Territories at the earliest opportunity.31  88. Information on United Nations system activities involving Bermuda, including on the applicability of international labour conventions and international labour recommendations, is contained in document E/2006/47.        89. Developments regarding discussions on the future status of Bermuda are reflected in section II above.     90. In a statement made on 24 April 2006 while visiting the Turks and Caicos Islands, Lord Triesman, the Overseas Territories Minister, took stock of the relationship between the United Kingdom and the Overseas Territories seven years on from the 1999 White Paper,32 and reiterated the approach of the United Kingdom as follows:    As the White Paper made clear,  the United Kingdom will always be ready to help any Territory become independent where this is an option and if that is the clear and settled will of the people. The United Kingdom has no desire for any Territory to remain Brit ish against its people’s wishes. We have no continuing colonial objectives.    However, if the people of a Territory  wish to retain the British link, then the United Kingdom will continue to h onour its responsibilities for it. But I am, and I should be, answerable to the United Kingdom Parliament for the Territories. As long as the United Kingdom retains those responsibilities, it needs to be in a position where it can discharge them properly. And that means that the United Kingdom needs to retain a sufficient level of powers to do this.    In this process, the Governor, who also represents the Territory to the United Kingdom Government, has a vital role. He or she must ensure, in partnership with the territorial Governme nt, that high standards are maintained in key areas such as the public service, the police, the judiciary, finance, aviation and maritime security — inde ed security generally — and human rights, in the interests of the peopl es of the Territory as a whole.    In this context, it might be helpful if I set out the United Kingdom position on alternative forms of relationship, some of which I know have been discussed here in the Turks and Caicos Islands in recent weeks. General Assembly resolution 1541 (XV) set out some options for the relationship between administering Powers and the Territories, including independence, integration and free associ ation. The United Kingdom did not vote in favour of that resolution, and does not regard itself as bound by it. Integration would mean the Turks and Caicos Islands or any of the other Territories becoming a full part of the United Kingdom, like the Isle of Wight. It would mean that the people of the Territory would have to pay United Kingdom taxes. And United Kingdom policy would apply in areas that have traditionally been the responsibility of the territory Government — for example education and health.    I do not believe that this is an option that would find favour in the Territories. Nor does it in the United Kingdom. The option of free association is also unacceptable. As defined by the United Nations, it would mean the Territory drawing up its Constitution free from any outside involvement. The United Kingdom would retain all the responsibilities for the Territory, but would not be able to ensure that it had the powers to enable it to fulfil these responsibilities. Ministers answerable to Government in Westminster cannot,  and should not, put themselves in that position. So our aim is to work for a relationship with the territorial Government which satisfies the needs of both sides.33 91. Moreover, in a statement before the Special Political and Decolonization Committee (Fourth Committee) on 5 October 2006, during the sixty-first session of the General Assembly, the representative  of the United Kingdom said that the criteria used by the Special Committee in  its deliberation on whether a Non-Self-Governing-Territory should be “de-listed” were outdated and failed to take account of the way that relationships between the United Kingdom and its Overseas Territories had been modernized, in a way that was acceptable to both parties.34      ']"
      ]
     },
     "execution_count": 46,
     "metadata": {},
     "output_type": "execute_result"
    }
   ],
   "source": [
    "directory, last_page = get_all_directory_contents(dataset[1][\"en\"])\n",
    "paragraph_list = process(dataset[1][\"en\"], directory, last_page)\n",
    "paragraph_list"
   ]
  },
  {
   "cell_type": "code",
   "execution_count": 39,
   "id": "bdd2eefa",
   "metadata": {},
   "outputs": [],
   "source": [
    "last_page"
   ]
  },
  {
   "cell_type": "code",
   "execution_count": 49,
   "id": "0f4814cf",
   "metadata": {},
   "outputs": [],
   "source": [
    "from pathlib import Path\n",
    "\n",
    "\n",
    "def main(dataset):\n",
    "    for row in dataset:\n",
    "        directory, last_page = get_all_directory_contents(row[\"zh\"])\n",
    "        if directory:\n",
    "            paragraph_list = process(row[\"zh\"], directory, last_page)\n",
    "            if paragraph_list:\n",
    "                Path(f\"./txt/{row['record']}\").mkdir(parents=True, exist_ok=True)\n",
    "                with open(f\"./txt/{row['record']}/zh.txt\", \"w\", encoding='utf-8') as f:\n",
    "                    f.write(\"\\n\".join(paragraph_list))"
   ]
  },
  {
   "cell_type": "code",
   "execution_count": 50,
   "id": "26e100ed",
   "metadata": {},
   "outputs": [],
   "source": [
    "main(dataset)"
   ]
  },
  {
   "cell_type": "code",
   "execution_count": null,
   "id": "4b3b9437",
   "metadata": {},
   "outputs": [],
   "source": []
  },
  {
   "cell_type": "code",
   "execution_count": null,
   "id": "75d3bcab",
   "metadata": {},
   "outputs": [],
   "source": []
  },
  {
   "cell_type": "code",
   "execution_count": null,
   "id": "90e19171",
   "metadata": {},
   "outputs": [],
   "source": []
  }
 ],
 "metadata": {
  "kernelspec": {
   "display_name": "Python 3 (ipykernel)",
   "language": "python",
   "name": "python3"
  },
  "language_info": {
   "codemirror_mode": {
    "name": "ipython",
    "version": 3
   },
   "file_extension": ".py",
   "mimetype": "text/x-python",
   "name": "python",
   "nbconvert_exporter": "python",
   "pygments_lexer": "ipython3",
   "version": "3.9.13"
  }
 },
 "nbformat": 4,
 "nbformat_minor": 5
}
